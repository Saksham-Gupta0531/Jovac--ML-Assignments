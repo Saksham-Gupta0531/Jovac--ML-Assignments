{
 "cells": [
  {
   "cell_type": "code",
   "execution_count": 2,
   "id": "3e88b5be",
   "metadata": {},
   "outputs": [
    {
     "name": "stdout",
     "output_type": "stream",
     "text": [
      "Caught ValueError: invalid literal for int() with base 10: 'abcd'\n",
      "Got the error!!\n"
     ]
    }
   ],
   "source": [
    "# 1- Make a custom exception\n",
    "try:\n",
    "    while True:\n",
    "        line = int(input())\n",
    "except ValueError as e:\n",
    "    print(\"Caught ValueError:\", e)\n",
    "    print(\"Got the error!!\")\n",
    "except EOFError:\n",
    "    print(\"Done reading input.\")\n"
   ]
  },
  {
   "cell_type": "code",
   "execution_count": 3,
   "id": "59b475ab",
   "metadata": {},
   "outputs": [
    {
     "name": "stdout",
     "output_type": "stream",
     "text": [
      "DataFrame written to students.csv.\n",
      "Data read from students.csv:\n",
      "    Name  Age Grade\n",
      "0  Smith   21     A\n",
      "1  Carol   23     B\n",
      "2  Lewis   18     C\n"
     ]
    }
   ],
   "source": [
    "import pandas as pd\n",
    "\n",
    "# 2D array as a dictionary \n",
    "data = {\n",
    "    \"Name\": [\"Smith\", \"Carol\", \"Lewis\"],\n",
    "    \"Age\": [21, 23, 18],\n",
    "    \"Grade\": [\"A\", \"B\", \"C\"]\n",
    "}\n",
    "\n",
    "df = pd.DataFrame(data)\n",
    "\n",
    "# Write to CSV\n",
    "df.to_csv(\"students.csv\", index=False)\n",
    "print(\"DataFrame written to students.csv.\")\n",
    "\n",
    "# Read it back\n",
    "df_read = pd.read_csv(\"students.csv\")\n",
    "print(\"Data read from students.csv:\")\n",
    "print(df_read)\n"
   ]
  }
 ],
 "metadata": {
  "kernelspec": {
   "display_name": "base",
   "language": "python",
   "name": "python3"
  },
  "language_info": {
   "codemirror_mode": {
    "name": "ipython",
    "version": 3
   },
   "file_extension": ".py",
   "mimetype": "text/x-python",
   "name": "python",
   "nbconvert_exporter": "python",
   "pygments_lexer": "ipython3",
   "version": "3.9.12"
  }
 },
 "nbformat": 4,
 "nbformat_minor": 5
}
